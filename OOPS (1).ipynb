{
  "nbformat": 4,
  "nbformat_minor": 0,
  "metadata": {
    "colab": {
      "provenance": []
    },
    "kernelspec": {
      "name": "python3",
      "display_name": "Python 3"
    },
    "language_info": {
      "name": "python"
    }
  },
  "cells": [
    {
      "cell_type": "markdown",
      "source": [
        "1. What is Object-Oriented Programming (OOP)?\n",
        "   - Object Oriented programming (OOP) is a programming paradigm based on the concept of \"objects\", which contain data in the form of fields (also called attributes or properties) and code in form of methods (functions associated with the object). OOP promotes modularity, reusability, and better organisation of code.\n",
        "\n",
        "2. What is a class in OOP?\n",
        "   - In object oriented programming (OOP), a class is a blueprint or template for creating objects. It defines the attributes (data) and methods (functions) that the objects created from the class we have.\n",
        "\n",
        "3. What is an object in OOP?\n",
        "   - In object oriented programming (OOP), an object  is an instance of a class. It represents a real world entity that has specific attributes (data) and methods (behaviour).\n",
        "   - Objects are building blocks of OOP, enabling data encapsulation and modular programming.\n",
        "\n",
        "4. What is the difference between abstraction and encapsulation?\n",
        "   - ABSTRACTION- Hiding the complex implementation ddetails and showing only essential features to the user. It focuses on what an object does. It partially hides implementation details.\n",
        "   - ENCAPSULATION- Wrapping or bundling data and methods into a single unit (class) and restricting direct access to them. It focuses on how to protect the data within an object. It fully hides data by controlling access.\n",
        "\n",
        "5. What are dunder methods in Python?\n",
        "   - Dunder method (short for \"double underscore\" methonds) are special methods in puthon that begin and end with double underscores, like __init__, __str__, and __add__. They are also known as magic methods or special methods.\n",
        "   - Dunder methods allow you to define the behaviour of objects for built-in operations, such as initialization, representation, comparison, and arithmetic operations.\n",
        "\n",
        "6. Explain the concept of inheritance in OOP?\n",
        "   - INHERITANCE- It is a fundamental concept in object oriented programming (OOP) that allows a class (called the child class or subclass) to inherit attributes and methods from another class (called the parent class or super class). This promotes code reusability and establishes a hierarchical relationship between classes.\n",
        "\n",
        "7. What is polymorphism in OOP?\n",
        "  - Polymorphism in python refers to the ability of objects to take on multiple forms. In Object oriented programmimg (OOP), it allows the same operation or method name to behave differently based on the object it is acting upon. It provides flexibility and reusability in code by enabling dynamics method invocation.\n",
        "\n",
        "8. How is encapsulation achieved in Python?  \n",
        "   - PUBLIC MEMBERS- It is accesible from anywhere. It declares without any lending underscores\n",
        "   - PROTECTED MEMBERS- It is indicated be a single leading underscore (_). It should not be accessed directly but can be accessed from child classes.\n",
        "   - PRIVATE MEMBERS- It is indicated by a double leading underscore (__). It cannot be accessed directly from outside the class.\n",
        "\n",
        "9. What is a constructor in Python?\n",
        "   - A constructor in python is a special method to initialize the attributes of an object when it is created. The constructor is defined using the method __init__(), which is automatically called when an instance of the class is created.\n",
        "\n",
        "10. What are class and static methods in Python?\n",
        "    - CLASS METHODS- A class method is a method that operates on the class itself rather than instances of the class. It takes the class (cls) as its first argument.\n",
        "    - STATIC METHODS- A static method does not access or modify the class or instance state. It behaves like a regular function but belongs to the class namespace.\n",
        "\n",
        "11. What is method overloading in Python?\n",
        "    - Method overloading allows multiple methods in a class to have the same name but handle different numbers or types of arguments. It is a common features in many programming languages, but python does not support traditional method overriding directly.  \n",
        "\n",
        "12. What is method overriding in OOP?\n",
        "    - Method overriding in OOP occurs when a child class provides a specific implementation of a method that is already defined in its parent class. The child class redefines the method to provide its own behaviour while maintaining the method name and signature.\n",
        "\n",
        "13. What is a property decorator in Python?\n",
        "    - The property decorator in python allows you to define getter, setter, and deleter methods for an attribute. It provides a way to access instance attributes like public variables while internally using methods fro control or validation. This encapsulates data while maintaining a simple interface for the user.\n",
        "\n",
        "14. Why is polymorphism important in OOP?\n",
        "    - It writes generic functions and methods that work with different types of objects without modification.\n",
        "    - New classes can be added without changing existing code.Child classes can modify the behaviour of inherited methods.\n",
        "    - Functions or methods don't need to know the exact type of object; they only need to know that the object supports a particular interface (method or behaviour).\n",
        "\n",
        "15. What is an abstract class in Python?\n",
        "    - An abstract class in python is a class that cannot be instantiated directly. It serves as a blueprint fro other classes and is meant to define a common interface that derived classes must follow. Abstract classes typically contains one or more abstract methods, which must be implemented in subclasses.\n",
        "\n",
        "16. What are the advantages of OOP?\n",
        "    - OOP allows classes to inherit properties and methods from other classes, reducing code redundancy.\n",
        "    - Programs can be divided into smaller, manageable objects(modules). This makes it easier to organize, understand, and maintain code.\n",
        "    - Encapsulation restricts direct access to an object's data, protecting it from accidential modification.\n",
        "    - OOP supports polymorphism, allowing methods to behave differently depending on the object calling them. This enhances flexibility and supports the addition of new features without breaking existing code.\n",
        "\n",
        "17. What is the difference between a class variable and an instance variable?\n",
        "    - CLASS VARIABLE- It is shared by all instances of a class. It is defined inside the class but outside methods. It is accessible by all instances of the class.\n",
        "    - INSTANCE VARIABLE- It is unique to each instance of the class. It is defined inside methods using self keywords. It is accessible only within the specific instance.\n",
        "\n",
        "18. What is multiple inheritance in Python?\n",
        "    - Multiple inheritance is a feature in pyhton where a class can inherit from more than one parent class. This allows a child class to inherit attributes and methods from multiple classes.\n",
        "\n",
        "19. Explain the purpose of ‘’__str__’ and ‘__repr__’ ‘ methods in Python?\n",
        "    - __str__() METHOD- It provides a user- friendly and readable string representation of an object. It is intended for end-users. It is called by the built-in str() function or when print() is used.\n",
        "    - __repr__() METHOD- It provides an unambiguous and detailed representation of an object for developer. It is called by the built-in repr() function or in interactive mode. Should ideally return a string that can recreate the object when evaluated.\n",
        "\n",
        "20. What is the significance of the ‘super()’ function in Python?\n",
        "     - Super function is used to call methods from a parent in a subclass. It is particularly useful in context of inheritance and method overriding.\n",
        "     - Importance of Super() :\n",
        "     1. Instead of Parentclass.method(self), you can use super(). Method(), making the code more maintainable..\n",
        "     2. Super() helps manage method resolution order in multiple inheritance scenarios using C3 linearization algorithm.\n",
        "     3. Whem multiple classes shaare a method, Super() ensures all necessary methods are executed in the correct order.\n",
        "\n",
        "21. What is the significance of the __del__ method in Python?\n",
        "    - The __del__ method in python is a special method called a destructor. It is executed when an object is about to be destroyed, typically when it goes out of scope or its reference count drops to zero.\n",
        "    - Importance of __del__:\n",
        "    1. It helps in releasing resources such aas file handles, network connections, or database connections when an object is deleted.\n",
        "    2. It can help manage memory in cases where circular references exist.\n",
        "    3. It can be useful for tracking when objects are deleted, especially in complex applications.\n",
        "\n",
        "22. What is the difference between @staticmethod and @classmethod in Python?\n",
        "    - @Statisticmethod : It belongs to a class but does not recieve the class (cls) or instance (self) as the first parameter. It behaves like a regular function but is placed inside a class for logical grouping. It cannot modify class attributes or instance attributes.\n",
        "    - @classmethod : It belongs to a class and recieves the class(cls) as its first parameter. It can modify class attributes but not instance aattributes. Useful for factory methods and modifying class- level data.\n",
        "\n",
        "23. How does polymorphism work in Python with inheritance?\n",
        "    - Polymorphism is a core concept in object- oriented programming that allows different classes to use the same method names but implement them differently.\n",
        "    1. METHOD OVERRIDING: In python, method overriding allows a subclass to provide a different implementation of a method that is already defined in the parent class.\n",
        "    2. METHOD OVERLOADING: Python does not support method overloading like Java or C ++. However, it can be simulated using default arguments or *args/**kwargs.\n",
        "    3. OPERATOR OVERLOADING: Pyhton allows you to override operators using special methods like __add__, __sub__, etc.\n",
        "\n",
        "24. What is method chaining in Python OOP?\n",
        "    - Method chaining is a technique in object- oriented programming where multiple methods are called on the same object in a single statement. This is possible when each method returns self, allowing further method calls.\n",
        "\n",
        "25. What is the purpose of the __call__ method in Python?\n",
        "    - The __call__ method in python allows an instance of a class to be called like a function. This makes objects behave like functions while still maintaining their state.\n",
        "\n",
        "\n",
        "\n",
        "               \n"
      ],
      "metadata": {
        "id": "u9s6eknko35k"
      }
    },
    {
      "cell_type": "markdown",
      "source": [
        "1. Create a parent class Animal with a method speak() that prints a generic message. Create a child class Dog that overrides the speak() method to print \"Bark!\".\n",
        "\n"
      ],
      "metadata": {
        "id": "IX4lHTVVq8ZK"
      }
    },
    {
      "cell_type": "code",
      "execution_count": null,
      "metadata": {
        "id": "AYkt0GQwosV2",
        "colab": {
          "base_uri": "https://localhost:8080/"
        },
        "outputId": "83f121f3-086e-4bd6-8fc3-1e2ae60fe374"
      },
      "outputs": [
        {
          "output_type": "stream",
          "name": "stdout",
          "text": [
            "Bark!\n"
          ]
        }
      ],
      "source": [
        "class Animal :\n",
        "  def speak(self):\n",
        "    print(\"Animal makes a sound\")\n",
        "class Dog(Animal):\n",
        "  def speak(self):\n",
        "    print(\"Bark!\")\n",
        "dog= Dog()\n",
        "dog.speak()"
      ]
    },
    {
      "cell_type": "markdown",
      "source": [
        "2. Write a program to create an abstract class Shape with a method area(). Derive classes Circle and Rectangle\n",
        "from it and implement the area() method in both."
      ],
      "metadata": {
        "id": "jAyYOxFd_dRr"
      }
    },
    {
      "cell_type": "code",
      "source": [
        "from abc import abstractmethod\n",
        "import math\n",
        "class Shape():\n",
        "  @abstractmethod\n",
        "  def area(self):\n",
        "    pass\n",
        "\n",
        "class Circle(Shape):\n",
        "  def __init__(self, radius):\n",
        "    self.radius = radius\n",
        "\n",
        "  def area(self):\n",
        "    return math.pi * self.radius**2\n",
        "\n",
        "class Rectangle(Shape):\n",
        "  def __init__(self, width, height):\n",
        "    self.width = width\n",
        "    self.height = height\n",
        "\n",
        "  def area(self):\n",
        "    return self.width * self.height\n",
        "\n",
        "circle = Circle(5)\n",
        "rectangle = Rectangle(4,6)\n",
        "\n",
        "print(\"Area of Circle:\", circle.area())\n",
        "print(\"Area of rectangle:\", rectangle.area())\n"
      ],
      "metadata": {
        "id": "_-hQZssv_cZ0",
        "colab": {
          "base_uri": "https://localhost:8080/"
        },
        "outputId": "f867a5fc-fe95-450e-b89e-9355794d688f"
      },
      "execution_count": null,
      "outputs": [
        {
          "output_type": "stream",
          "name": "stdout",
          "text": [
            "Area of Circle: 78.53981633974483\n",
            "Area of rectangle: 24\n"
          ]
        }
      ]
    },
    {
      "cell_type": "markdown",
      "source": [
        "3. Implement a multi-level inheritance scenario where a class Vehicle has an attribute type. Derive a class Car\n",
        "and further derive a class ElectricCar that adds a battery attribute."
      ],
      "metadata": {
        "id": "5QbmO366DItH"
      }
    },
    {
      "cell_type": "code",
      "source": [
        "class Vechile:\n",
        "  def __init__(self, type_of_vechile):\n",
        "    self.type = type_of_vechile\n",
        "  def display_info(self):\n",
        "    print(f\"Vechile Type: {self.type}\")\n",
        "\n",
        "class Car(Vechile):\n",
        "  def __init__(self, type_of_vechile, make, model):\n",
        "    super().__init__(type_of_vechile)\n",
        "    self.make = make\n",
        "    self.model = model\n",
        "\n",
        "  def display_info(self):\n",
        "    super().display_info()\n",
        "    print(f\"Car Make: {self.make}, Model: {self.model}\")\n",
        "\n",
        "class ElectricCar(Car):\n",
        "  def __init__(self, type_of_vechile, make, model, battery_capacity):\n",
        "    super().__init__(type_of_vechile, make, model)\n",
        "    self.battery_capacity = battery_capacity\n",
        "  def display_info(self):\n",
        "    super().display_info()\n",
        "    print(f\"Battery Capacity: {self.battery_capacity}kwh\")\n",
        "\n",
        "electric_car= ElectricCar(\"Electric\", \"Tesla\", \"Model S\", 100)\n",
        "\n",
        "electric_car.display_info()\n",
        "\n",
        "\n"
      ],
      "metadata": {
        "colab": {
          "base_uri": "https://localhost:8080/"
        },
        "id": "SiJ81Rz6DEGL",
        "outputId": "4eea270d-6101-4798-e255-09e59346e7bb"
      },
      "execution_count": null,
      "outputs": [
        {
          "output_type": "stream",
          "name": "stdout",
          "text": [
            "Vechile Type: Electric\n",
            "Car Make: Tesla, Model: Model S\n",
            "Battery Capacity: 100kwh\n"
          ]
        }
      ]
    },
    {
      "cell_type": "markdown",
      "source": [
        "4. Implement a multi-level inheritance scenario where a class Vehicle has an attribute type. Derive a class Car and further derive a class ElectricCar that adds a battery attribute."
      ],
      "metadata": {
        "id": "-OyrAEGWKRcX"
      }
    },
    {
      "cell_type": "code",
      "source": [
        "#same as 3."
      ],
      "metadata": {
        "id": "NPmeVHPXIytU"
      },
      "execution_count": null,
      "outputs": []
    },
    {
      "cell_type": "markdown",
      "source": [
        "5. Write a program to demonstrate encapsulation by creating a class BankAccount with private attributes\n",
        "balance and methods to deposit, withdraw, and check balance."
      ],
      "metadata": {
        "id": "kZ_h4Bl-Luk6"
      }
    },
    {
      "cell_type": "code",
      "source": [
        "class BankAccount:\n",
        "    def __init__(self, initial_balance=0):\n",
        "        self.__balance = initial_balance\n",
        "    def deposit(self, amount):\n",
        "        if amount > 0:\n",
        "            self.__balance += amount\n",
        "            print(f\"Deposited ${amount}. Current balance: ${self.__balance}\")\n",
        "        else:\n",
        "            print(\"Deposit amount must be positive.\")\n",
        "    def withdraw(self, amount):\n",
        "        if amount > 0:\n",
        "            if amount <= self.__balance:\n",
        "                self.__balance -= amount\n",
        "                print(f\"Withdrew ${amount}. Current balance: ${self.__balance}\")\n",
        "            else:\n",
        "                print(\"Insufficient funds.\")\n",
        "        else:\n",
        "            print(\"Withdrawal amount must be positive.\")\n",
        "    def check_balance(self):\n",
        "        print(f\"Current balance: ${self.__balance}\")\n",
        "account = BankAccount(1000)\n",
        "account.check_balance()\n",
        "account.deposit(500)\n",
        "account.withdraw(200)\n",
        "account.check_balance()\n"
      ],
      "metadata": {
        "id": "9hf8TAObLuAY",
        "colab": {
          "base_uri": "https://localhost:8080/"
        },
        "outputId": "03f2741e-8546-4601-d0e3-57399b55c4fe"
      },
      "execution_count": 41,
      "outputs": [
        {
          "output_type": "stream",
          "name": "stdout",
          "text": [
            "Current balance: $1000\n",
            "Deposited $500. Current balance: $1500\n",
            "Withdrew $200. Current balance: $1300\n",
            "Current balance: $1300\n"
          ]
        }
      ]
    },
    {
      "cell_type": "markdown",
      "source": [
        "6. Demonstrate runtime polymorphism using a method play() in a base class Instrument. Derive classes Guitar\n",
        "and Piano that implement their own version of play().\n"
      ],
      "metadata": {
        "id": "j1HX0pAyQg3B"
      }
    },
    {
      "cell_type": "code",
      "source": [
        "class Instrument:\n",
        "    def play(self):\n",
        "        print(\"Playing instrument\")\n",
        "class Guitar(Instrument):\n",
        "    def play(self):\n",
        "        print(\"Playing guitar\")\n",
        "class Piano(Instrument):\n",
        "    def play(self):\n",
        "        print(\"Playing piano\")\n",
        "def perform_play(instrument):\n",
        "    instrument.play()\n",
        "\n",
        "guitar = Guitar()\n",
        "piano = Piano()\n",
        "\n",
        "perform_play(guitar)\n",
        "perform_play(piano)\n"
      ],
      "metadata": {
        "id": "ylpEPhvGQoA0",
        "colab": {
          "base_uri": "https://localhost:8080/"
        },
        "outputId": "bf414a70-7a8b-41c6-a27e-7d65b9e5866a"
      },
      "execution_count": 39,
      "outputs": [
        {
          "output_type": "stream",
          "name": "stdout",
          "text": [
            "Playing guitar\n",
            "Playing piano\n"
          ]
        }
      ]
    },
    {
      "cell_type": "markdown",
      "source": [
        "7. Create a class MathOperations with a class method add_numbers() to add two numbers and a static\n",
        "method subtract_numbers() to subtract two numbers."
      ],
      "metadata": {
        "id": "NS0VjY8qQwfe"
      }
    },
    {
      "cell_type": "code",
      "source": [
        "class MathOperations:\n",
        "  @classmethod\n",
        "  def add_numbers(cls, a, b):\n",
        "    return a + b\n",
        "\n",
        "  @staticmethod\n",
        "  def subtract_numbers(a, b):\n",
        "    return a - b\n",
        "\n",
        "sum_result = MathOperations.add_numbers(10, 5)\n",
        "print(f\"Sum: {sum_result}\")\n",
        "\n",
        "difference_result = MathOperations.subtract_numbers(10, 5)\n",
        "print(f\"Difference: {difference_result}\")"
      ],
      "metadata": {
        "id": "J7Or0JD_Qykv",
        "colab": {
          "base_uri": "https://localhost:8080/"
        },
        "outputId": "38b6e916-d50e-41ad-c2f3-c532cc41aa2b"
      },
      "execution_count": 24,
      "outputs": [
        {
          "output_type": "stream",
          "name": "stdout",
          "text": [
            "Sum: 15\n",
            "Difference: 5\n"
          ]
        }
      ]
    },
    {
      "cell_type": "markdown",
      "source": [
        "8. Implement a class Person with a class method to count the total number of persons created."
      ],
      "metadata": {
        "id": "mOvUQ-3BQzLA"
      }
    },
    {
      "cell_type": "code",
      "source": [
        "class person:\n",
        "  total_persons = 0\n",
        "  def __init__(self, name, age):\n",
        "    self.name = name\n",
        "    self.age = age\n",
        "    person.total_persons += 1\n",
        "\n",
        "  @classmethod\n",
        "  def get_total_persons(cls):\n",
        "    return cls.total_persons\n",
        "\n",
        "person1 = person(\"Alice\", 30)\n",
        "person2 = person(\"Bob\", 25)\n",
        "person3 = person(\"Charlie\", 35)\n",
        "\n",
        "print(f\"Total persons created: {person.get_total_persons()}\")"
      ],
      "metadata": {
        "id": "_w91_hIuQ3HP",
        "colab": {
          "base_uri": "https://localhost:8080/"
        },
        "outputId": "08a9190b-078b-405b-971d-b9a0a7dc04e2"
      },
      "execution_count": 27,
      "outputs": [
        {
          "output_type": "stream",
          "name": "stdout",
          "text": [
            "Total persons created: 3\n"
          ]
        }
      ]
    },
    {
      "cell_type": "markdown",
      "source": [
        "9. Write a class Fraction with attributes numerator and denominator. Override the str method to display the\n",
        "fraction as \"numerator/denominator\"."
      ],
      "metadata": {
        "id": "ZFFvfT_BRUi3"
      }
    },
    {
      "cell_type": "code",
      "source": [
        "class Fraction:\n",
        "  def __init__(self, numerator, denominator):\n",
        "    self.numerator = numerator\n",
        "    self.denominator = denominator\n",
        "\n",
        "  def __str__(self):\n",
        "    return f\"{self.numerator}/{self.denominator}\"\n",
        "\n",
        "fraction1 = Fraction(3, 4)\n",
        "fraction2 = Fraction(5, 8)\n",
        "\n",
        "print(fraction1)\n",
        "print(fraction2)"
      ],
      "metadata": {
        "colab": {
          "base_uri": "https://localhost:8080/"
        },
        "id": "lpUma6UnRXoq",
        "outputId": "b20b540d-2208-4468-db8c-a04fb5cfb994"
      },
      "execution_count": 28,
      "outputs": [
        {
          "output_type": "stream",
          "name": "stdout",
          "text": [
            "3/4\n",
            "5/8\n"
          ]
        }
      ]
    },
    {
      "cell_type": "markdown",
      "source": [
        "10. Demonstrate operator overloading by creating a class Vector and overriding the add method to add two\n",
        "vectors."
      ],
      "metadata": {
        "id": "rfPYLytZVfSk"
      }
    },
    {
      "cell_type": "code",
      "source": [
        "class Vector:\n",
        "  def __init__(self, x, y):\n",
        "    self.x = x\n",
        "    self.y = y\n",
        "  def __add__(self, other):\n",
        "    if isinstance(other, Vector):\n",
        "      return Vector(self.x + other.x, self.y + other.y)\n",
        "    else:\n",
        "      raise TypeError(\"Operands must be od Type'Vector'\")\n",
        "\n",
        "  def __str__(self):\n",
        "    return f\"({self.x}, {self.y})\"\n",
        "\n",
        "v1 = Vector(2, 3)\n",
        "v2 = Vector(4, 1)\n",
        "v3 = v1 + v2\n",
        "\n",
        "print(f\"v1 + v2 = {v3}\")\n",
        "\n"
      ],
      "metadata": {
        "colab": {
          "base_uri": "https://localhost:8080/"
        },
        "id": "1gX29Us8Vi_G",
        "outputId": "9c49f176-266b-4f90-9cb6-9b14979fc195"
      },
      "execution_count": 29,
      "outputs": [
        {
          "output_type": "stream",
          "name": "stdout",
          "text": [
            "v1 + v2 = (6, 4)\n"
          ]
        }
      ]
    },
    {
      "cell_type": "markdown",
      "source": [
        "11. Create a class Person with attributes name and age. Add a method greet() that prints \"Hello, my name is\n",
        "{name} and I am {age} years old."
      ],
      "metadata": {
        "id": "2S-ZWiDxWa6P"
      }
    },
    {
      "cell_type": "code",
      "source": [
        "class Person:\n",
        "  def __init__(self, name, age):\n",
        "    self.name = name\n",
        "    self.age = age\n",
        "\n",
        "  def greet(self):\n",
        "    print(f\"Hello, my name is {self.name} and I am {self.age} years old.\")\n",
        "\n",
        "person1 = Person(\"Alice\", 30)\n",
        "person1.greet()\n"
      ],
      "metadata": {
        "colab": {
          "base_uri": "https://localhost:8080/"
        },
        "id": "fr8iBIX7WbjH",
        "outputId": "e948b1ae-1e3f-495f-eaed-d96cdd2a3758"
      },
      "execution_count": 30,
      "outputs": [
        {
          "output_type": "stream",
          "name": "stdout",
          "text": [
            "Hello, my name is Alice and I am 30 years old.\n"
          ]
        }
      ]
    },
    {
      "cell_type": "markdown",
      "source": [
        "12. Implement a class Student with attributes name and grades. Create a method average_grade() to compute\n",
        "the average of the grades.\n"
      ],
      "metadata": {
        "id": "thHIvdxoaRJu"
      }
    },
    {
      "cell_type": "code",
      "source": [
        "class Student:\n",
        "    def __init__(self, name, grades):\n",
        "        self.name = name\n",
        "        self.grades = grades\n",
        "    def average_grade(self):\n",
        "        if len(self.grades) == 0:\n",
        "            return 0\n",
        "        return sum(self.grades) / len(self.grades)\n",
        "\n",
        "student1 = Student(\"Alice\", [85, 90, 78, 92, 88])\n",
        "\n",
        "average = student1.average_grade()\n",
        "print(f\"{student1.name}'s average grade is: {average}\")\n"
      ],
      "metadata": {
        "colab": {
          "base_uri": "https://localhost:8080/"
        },
        "id": "7edGjvQraT7n",
        "outputId": "9afd064d-463c-4c45-a1f2-bb6ac0d597e0"
      },
      "execution_count": 31,
      "outputs": [
        {
          "output_type": "stream",
          "name": "stdout",
          "text": [
            "Alice's average grade is: 86.6\n"
          ]
        }
      ]
    },
    {
      "cell_type": "markdown",
      "source": [
        "13. Create a class Rectangle with methods set_dimensions() to set the dimensions and area() to calculate the\n",
        "area."
      ],
      "metadata": {
        "id": "oWPSxsGaar2n"
      }
    },
    {
      "cell_type": "code",
      "source": [
        "class Rectangle:\n",
        "    def __init__(self):\n",
        "        self.length = 0\n",
        "        self.width = 0\n",
        "    def set_dimensions(self, length, width):\n",
        "        self.length = length\n",
        "        self.width = width\n",
        "    def area(self):\n",
        "        return self.length * self.width\n",
        "\n",
        "rectangle1 = Rectangle()\n",
        "\n",
        "rectangle1.set_dimensions(5, 3)\n",
        "\n",
        "print(f\"The area of the rectangle is: {rectangle1.area()} square units.\")\n"
      ],
      "metadata": {
        "colab": {
          "base_uri": "https://localhost:8080/"
        },
        "id": "3MWm0nQqauan",
        "outputId": "b85e9a2a-3ac0-48be-f9d0-050e3242df59"
      },
      "execution_count": 32,
      "outputs": [
        {
          "output_type": "stream",
          "name": "stdout",
          "text": [
            "The area of the rectangle is: 15 square units.\n"
          ]
        }
      ]
    },
    {
      "cell_type": "markdown",
      "source": [
        "14. Create a class Employee with a method calculate_salary() that computes the salary based on hours worked\n",
        "and hourly rate. Create a derived class Manager that adds a bonus to the salary."
      ],
      "metadata": {
        "id": "wapiSkAHa9n2"
      }
    },
    {
      "cell_type": "code",
      "source": [
        "class Employee:\n",
        "    def __init__(self, name, hours_worked, hourly_rate):\n",
        "        self.name = name\n",
        "        self.hours_worked = hours_worked\n",
        "        self.hourly_rate = hourly_rate\n",
        "    def calculate_salary(self):\n",
        "        return self.hours_worked * self.hourly_rate\n",
        "\n",
        "\n",
        "class Manager(Employee):\n",
        "    def __init__(self, name, hours_worked, hourly_rate, bonus):\n",
        "        super().__init__(name, hours_worked, hourly_rate)\n",
        "        self.bonus = bonus\n",
        "    def calculate_salary(self):\n",
        "        base_salary = super().calculate_salary()\n",
        "        return base_salary + self.bonus\n",
        "\n",
        "employee = Employee(\"John\", 40, 20)\n",
        "\n",
        "print(f\"{employee.name}'s salary: ${employee.calculate_salary()}\")\n",
        "\n",
        "manager = Manager(\"Alice\", 40, 30, 500)\n",
        "\n",
        "print(f\"{manager.name}'s salary (with bonus): ${manager.calculate_salary()}\")\n"
      ],
      "metadata": {
        "colab": {
          "base_uri": "https://localhost:8080/"
        },
        "id": "sCGOr-OabCNt",
        "outputId": "ee804a8b-f4fb-4c56-bafd-848d737b9c0b"
      },
      "execution_count": 33,
      "outputs": [
        {
          "output_type": "stream",
          "name": "stdout",
          "text": [
            "John's salary: $800\n",
            "Alice's salary (with bonus): $1700\n"
          ]
        }
      ]
    },
    {
      "cell_type": "markdown",
      "source": [
        "15. Create a class Product with attributes name, price, and quantity. Implement a method total_price() that\n",
        "calculates the total price of the product."
      ],
      "metadata": {
        "id": "NwAJaTdPbWJp"
      }
    },
    {
      "cell_type": "code",
      "source": [
        "class Product:\n",
        "    def __init__(self, name, price, quantity):\n",
        "        self.name = name\n",
        "        self.price = price\n",
        "        self.quantity = quantity\n",
        "    def total_price(self):\n",
        "        return self.price * self.quantity\n",
        "product1 = Product(\"Laptop\", 1000, 3)\n",
        "\n",
        "print(f\"The total price for {product1.name} is: ${product1.total_price()}\")\n"
      ],
      "metadata": {
        "colab": {
          "base_uri": "https://localhost:8080/"
        },
        "id": "D2D1xYpEbY0J",
        "outputId": "8315e485-5a96-4016-ecfd-a3c22edb5569"
      },
      "execution_count": 34,
      "outputs": [
        {
          "output_type": "stream",
          "name": "stdout",
          "text": [
            "The total price for Laptop is: $3000\n"
          ]
        }
      ]
    },
    {
      "cell_type": "markdown",
      "source": [
        "16. Create a class Animal with an abstract method sound(). Create two derived classes Cow and Sheep that\n",
        "implement the sound() method."
      ],
      "metadata": {
        "id": "0jlnmRJuboLo"
      }
    },
    {
      "cell_type": "code",
      "source": [
        "from abc import ABC, abstractmethod\n",
        "class Animal(ABC):\n",
        "    @abstractmethod\n",
        "    def sound(self):\n",
        "        pass\n",
        "class Cow(Animal):\n",
        "    def sound(self):\n",
        "        return \"Moo\"\n",
        "class Sheep(Animal):\n",
        "    def sound(self):\n",
        "        return \"Baa\"\n",
        "\n",
        "cow = Cow()\n",
        "sheep = Sheep()\n",
        "\n",
        "print(f\"The cow makes a sound: {cow.sound()}\")\n",
        "print(f\"The sheep makes a sound: {sheep.sound()}\")\n"
      ],
      "metadata": {
        "colab": {
          "base_uri": "https://localhost:8080/"
        },
        "id": "-55NW8kUbsbq",
        "outputId": "2dcb7350-06d4-4278-c38c-ee0577da75da"
      },
      "execution_count": 35,
      "outputs": [
        {
          "output_type": "stream",
          "name": "stdout",
          "text": [
            "The cow makes a sound: Moo\n",
            "The sheep makes a sound: Baa\n"
          ]
        }
      ]
    },
    {
      "cell_type": "markdown",
      "source": [
        "17. Create a class Book with attributes title, author, and year_published. Add a method get_book_info() that\n",
        "returns a formatted string with the book's details."
      ],
      "metadata": {
        "id": "A-a17faFb13q"
      }
    },
    {
      "cell_type": "code",
      "source": [
        "class Book:\n",
        "    def __init__(self, title, author, year_published):\n",
        "        self.title = title\n",
        "        self.author = author\n",
        "        self.year_published = year_published\n",
        "    def get_book_info(self):\n",
        "        return f\"Title: {self.title}\\nAuthor: {self.author}\\nYear Published: {self.year_published}\"\n",
        "book1 = Book(\"To Kill a Mockingbird\", \"Harper Lee\", 1960)\n",
        "\n",
        "print(book1.get_book_info())\n"
      ],
      "metadata": {
        "colab": {
          "base_uri": "https://localhost:8080/"
        },
        "id": "sZmBeqOsb6gB",
        "outputId": "462dd18e-aaad-4fc9-f3f9-5d9477d7c144"
      },
      "execution_count": 36,
      "outputs": [
        {
          "output_type": "stream",
          "name": "stdout",
          "text": [
            "Title: To Kill a Mockingbird\n",
            "Author: Harper Lee\n",
            "Year Published: 1960\n"
          ]
        }
      ]
    },
    {
      "cell_type": "markdown",
      "source": [
        "18. Create a class House with attributes address and price. Create a derived class Mansion that adds an\n",
        "attribute number_of_rooms."
      ],
      "metadata": {
        "id": "p1iDRkIfcHDr"
      }
    },
    {
      "cell_type": "code",
      "source": [
        "class House:\n",
        "    def __init__(self, address, price):\n",
        "        self.address = address\n",
        "        self.price = price\n",
        "    def get_house_info(self):\n",
        "        return f\"Address: {self.address}\\nPrice: ${self.price}\"\n",
        "class Mansion(House):\n",
        "    def __init__(self, address, price, number_of_rooms):\n",
        "        super().__init__(address, price)\n",
        "        self.number_of_rooms = number_of_rooms\n",
        "    def get_house_info(self):\n",
        "        basic_info = super().get_house_info()\n",
        "        return f\"{basic_info}\\nNumber of Rooms: {self.number_of_rooms}\"\n",
        "house = House(\"1234 Elm St\", 300000)\n",
        "\n",
        "mansion = Mansion(\"5678 Oak Ave\", 1000000, 10)\n",
        "\n",
        "print(\"House Info:\")\n",
        "print(house.get_house_info())\n",
        "\n",
        "print(\"\\nMansion Info:\")\n",
        "print(mansion.get_house_info())\n"
      ],
      "metadata": {
        "colab": {
          "base_uri": "https://localhost:8080/"
        },
        "id": "CaYkwpTzcLT-",
        "outputId": "a59e5d3b-b835-49bd-a8e6-a9438b92b1cb"
      },
      "execution_count": 38,
      "outputs": [
        {
          "output_type": "stream",
          "name": "stdout",
          "text": [
            "House Info:\n",
            "Address: 1234 Elm St\n",
            "Price: $300000\n",
            "\n",
            "Mansion Info:\n",
            "Address: 5678 Oak Ave\n",
            "Price: $1000000\n",
            "Number of Rooms: 10\n"
          ]
        }
      ]
    }
  ]
}